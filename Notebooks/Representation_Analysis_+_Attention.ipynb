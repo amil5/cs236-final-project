{
  "cells": [
    {
      "cell_type": "markdown",
      "metadata": {
        "id": "6cSCOUgdfOyO"
      },
      "source": [
        "# CS236 Final Project\n",
        "\n",
        "# Do Generative Transformers Read Like Bidirectional Models (BERT)?\n",
        "\n",
        "Last edit: 12-7-2021\n",
        "\n",
        "By: Amil Merchant\n",
        "\n",
        "This notebook is used to re-produce the main results for the paper; it includes additional analysis that did not make it to the core body of the paper but I (Amil) find intersting.\n",
        "\n",
        "Notes:\n",
        "- This notebook is written and tested for GPU runtime on colab. An equivalent setup for Jupyter notebook and local evaluation could be created based on these schemas."
      ]
    },
    {
      "cell_type": "markdown",
      "metadata": {
        "id": "fkhYh0nzgN-3"
      },
      "source": [
        "## Install necessary libraries and prepare plotting utilities"
      ]
    },
    {
      "cell_type": "code",
      "execution_count": null,
      "metadata": {
        "colab": {
          "base_uri": "https://localhost:8080/"
        },
        "id": "A7FwCDd4SGd4",
        "outputId": "10006fff-fa81-4892-a1dc-a4fa706fb4b7"
      },
      "outputs": [
        {
          "output_type": "stream",
          "name": "stdout",
          "text": [
            "Requirement already satisfied: transformers in /usr/local/lib/python3.7/dist-packages (4.12.5)\n",
            "Requirement already satisfied: huggingface-hub<1.0,>=0.1.0 in /usr/local/lib/python3.7/dist-packages (from transformers) (0.2.1)\n",
            "Requirement already satisfied: pyyaml>=5.1 in /usr/local/lib/python3.7/dist-packages (from transformers) (6.0)\n",
            "Requirement already satisfied: requests in /usr/local/lib/python3.7/dist-packages (from transformers) (2.23.0)\n",
            "Requirement already satisfied: regex!=2019.12.17 in /usr/local/lib/python3.7/dist-packages (from transformers) (2019.12.20)\n",
            "Requirement already satisfied: sacremoses in /usr/local/lib/python3.7/dist-packages (from transformers) (0.0.46)\n",
            "Requirement already satisfied: tqdm>=4.27 in /usr/local/lib/python3.7/dist-packages (from transformers) (4.62.3)\n",
            "Requirement already satisfied: numpy>=1.17 in /usr/local/lib/python3.7/dist-packages (from transformers) (1.19.5)\n",
            "Requirement already satisfied: tokenizers<0.11,>=0.10.1 in /usr/local/lib/python3.7/dist-packages (from transformers) (0.10.3)\n",
            "Requirement already satisfied: importlib-metadata in /usr/local/lib/python3.7/dist-packages (from transformers) (4.8.2)\n",
            "Requirement already satisfied: packaging>=20.0 in /usr/local/lib/python3.7/dist-packages (from transformers) (21.3)\n",
            "Requirement already satisfied: filelock in /usr/local/lib/python3.7/dist-packages (from transformers) (3.4.0)\n",
            "Requirement already satisfied: typing-extensions>=3.7.4.3 in /usr/local/lib/python3.7/dist-packages (from huggingface-hub<1.0,>=0.1.0->transformers) (3.10.0.2)\n",
            "Requirement already satisfied: pyparsing!=3.0.5,>=2.0.2 in /usr/local/lib/python3.7/dist-packages (from packaging>=20.0->transformers) (3.0.6)\n",
            "Requirement already satisfied: zipp>=0.5 in /usr/local/lib/python3.7/dist-packages (from importlib-metadata->transformers) (3.6.0)\n",
            "Requirement already satisfied: urllib3!=1.25.0,!=1.25.1,<1.26,>=1.21.1 in /usr/local/lib/python3.7/dist-packages (from requests->transformers) (1.24.3)\n",
            "Requirement already satisfied: idna<3,>=2.5 in /usr/local/lib/python3.7/dist-packages (from requests->transformers) (2.10)\n",
            "Requirement already satisfied: chardet<4,>=3.0.2 in /usr/local/lib/python3.7/dist-packages (from requests->transformers) (3.0.4)\n",
            "Requirement already satisfied: certifi>=2017.4.17 in /usr/local/lib/python3.7/dist-packages (from requests->transformers) (2021.10.8)\n",
            "Requirement already satisfied: click in /usr/local/lib/python3.7/dist-packages (from sacremoses->transformers) (7.1.2)\n",
            "Requirement already satisfied: six in /usr/local/lib/python3.7/dist-packages (from sacremoses->transformers) (1.15.0)\n",
            "Requirement already satisfied: joblib in /usr/local/lib/python3.7/dist-packages (from sacremoses->transformers) (1.1.0)\n",
            "Requirement already satisfied: datasets in /usr/local/lib/python3.7/dist-packages (1.16.1)\n",
            "Requirement already satisfied: multiprocess in /usr/local/lib/python3.7/dist-packages (from datasets) (0.70.12.2)\n",
            "Requirement already satisfied: packaging in /usr/local/lib/python3.7/dist-packages (from datasets) (21.3)\n",
            "Requirement already satisfied: aiohttp in /usr/local/lib/python3.7/dist-packages (from datasets) (3.8.1)\n",
            "Requirement already satisfied: requests>=2.19.0 in /usr/local/lib/python3.7/dist-packages (from datasets) (2.23.0)\n",
            "Requirement already satisfied: pyarrow!=4.0.0,>=3.0.0 in /usr/local/lib/python3.7/dist-packages (from datasets) (3.0.0)\n",
            "Requirement already satisfied: xxhash in /usr/local/lib/python3.7/dist-packages (from datasets) (2.0.2)\n",
            "Requirement already satisfied: pandas in /usr/local/lib/python3.7/dist-packages (from datasets) (1.1.5)\n",
            "Requirement already satisfied: fsspec[http]>=2021.05.0 in /usr/local/lib/python3.7/dist-packages (from datasets) (2021.11.1)\n",
            "Requirement already satisfied: huggingface-hub<1.0.0,>=0.1.0 in /usr/local/lib/python3.7/dist-packages (from datasets) (0.2.1)\n",
            "Requirement already satisfied: importlib-metadata in /usr/local/lib/python3.7/dist-packages (from datasets) (4.8.2)\n",
            "Requirement already satisfied: dill in /usr/local/lib/python3.7/dist-packages (from datasets) (0.3.4)\n",
            "Requirement already satisfied: numpy>=1.17 in /usr/local/lib/python3.7/dist-packages (from datasets) (1.19.5)\n",
            "Requirement already satisfied: tqdm>=4.62.1 in /usr/local/lib/python3.7/dist-packages (from datasets) (4.62.3)\n",
            "Requirement already satisfied: filelock in /usr/local/lib/python3.7/dist-packages (from huggingface-hub<1.0.0,>=0.1.0->datasets) (3.4.0)\n",
            "Requirement already satisfied: typing-extensions>=3.7.4.3 in /usr/local/lib/python3.7/dist-packages (from huggingface-hub<1.0.0,>=0.1.0->datasets) (3.10.0.2)\n",
            "Requirement already satisfied: pyyaml in /usr/local/lib/python3.7/dist-packages (from huggingface-hub<1.0.0,>=0.1.0->datasets) (6.0)\n",
            "Requirement already satisfied: pyparsing!=3.0.5,>=2.0.2 in /usr/local/lib/python3.7/dist-packages (from packaging->datasets) (3.0.6)\n",
            "Requirement already satisfied: urllib3!=1.25.0,!=1.25.1,<1.26,>=1.21.1 in /usr/local/lib/python3.7/dist-packages (from requests>=2.19.0->datasets) (1.24.3)\n",
            "Requirement already satisfied: certifi>=2017.4.17 in /usr/local/lib/python3.7/dist-packages (from requests>=2.19.0->datasets) (2021.10.8)\n",
            "Requirement already satisfied: chardet<4,>=3.0.2 in /usr/local/lib/python3.7/dist-packages (from requests>=2.19.0->datasets) (3.0.4)\n",
            "Requirement already satisfied: idna<3,>=2.5 in /usr/local/lib/python3.7/dist-packages (from requests>=2.19.0->datasets) (2.10)\n",
            "Requirement already satisfied: asynctest==0.13.0 in /usr/local/lib/python3.7/dist-packages (from aiohttp->datasets) (0.13.0)\n",
            "Requirement already satisfied: multidict<7.0,>=4.5 in /usr/local/lib/python3.7/dist-packages (from aiohttp->datasets) (5.2.0)\n",
            "Requirement already satisfied: charset-normalizer<3.0,>=2.0 in /usr/local/lib/python3.7/dist-packages (from aiohttp->datasets) (2.0.8)\n",
            "Requirement already satisfied: async-timeout<5.0,>=4.0.0a3 in /usr/local/lib/python3.7/dist-packages (from aiohttp->datasets) (4.0.1)\n",
            "Requirement already satisfied: frozenlist>=1.1.1 in /usr/local/lib/python3.7/dist-packages (from aiohttp->datasets) (1.2.0)\n",
            "Requirement already satisfied: aiosignal>=1.1.2 in /usr/local/lib/python3.7/dist-packages (from aiohttp->datasets) (1.2.0)\n",
            "Requirement already satisfied: attrs>=17.3.0 in /usr/local/lib/python3.7/dist-packages (from aiohttp->datasets) (21.2.0)\n",
            "Requirement already satisfied: yarl<2.0,>=1.0 in /usr/local/lib/python3.7/dist-packages (from aiohttp->datasets) (1.7.2)\n",
            "Requirement already satisfied: zipp>=0.5 in /usr/local/lib/python3.7/dist-packages (from importlib-metadata->datasets) (3.6.0)\n",
            "Requirement already satisfied: pytz>=2017.2 in /usr/local/lib/python3.7/dist-packages (from pandas->datasets) (2018.9)\n",
            "Requirement already satisfied: python-dateutil>=2.7.3 in /usr/local/lib/python3.7/dist-packages (from pandas->datasets) (2.8.2)\n",
            "Requirement already satisfied: six>=1.5 in /usr/local/lib/python3.7/dist-packages (from python-dateutil>=2.7.3->pandas->datasets) (1.15.0)\n"
          ]
        }
      ],
      "source": [
        "# Assuming we are on a colab instance, install Hugging Face libraries\n",
        "# Please restart after installing the necessary libraries\n",
        "!pip install --upgrade matplotlib\n",
        "!pip install transformers\n",
        "!pip install datasets"
      ]
    },
    {
      "cell_type": "code",
      "execution_count": null,
      "metadata": {
        "colab": {
          "base_uri": "https://localhost:8080/",
          "height": 122
        },
        "id": "A1ogxDK5sx_k",
        "outputId": "112be3ad-6c55-40a3-f51c-4b2ce53cd63a"
      },
      "outputs": [
        {
          "output_type": "execute_result",
          "data": {
            "image/png": "[encoded data removed]",
            "text/html": [
              "<div style=\"vertical-align: middle;\"><strong>flare</strong> </div><div class=\"cmap\"><img alt=\"flare colormap\" title=\"flare\" style=\"border: 1px solid #555;\" src=\"data:image/png;base64,iVBORw0KGgoAAAANSUhEUgAAAgAAAABACAYAAABsv8+/AAAAFHRFWHRUaXRsZQBmbGFyZSBjb2xvcm1hcPBwCaYAAAAadEVYdERlc2NyaXB0aW9uAGZsYXJlIGNvbG9ybWFwDi+gQAAAADB0RVh0QXV0aG9yAE1hdHBsb3RsaWIgdjMuNS4wLCBodHRwczovL21hdHBsb3RsaWIub3JnUjxewQAAADJ0RVh0U29mdHdhcmUATWF0cGxvdGxpYiB2My41LjAsIGh0dHBzOi8vbWF0cGxvdGxpYi5vcmd8msHmAAAB4UlEQVR4nO3WQXKDMBBFwSEnz41ysdxBWcQhBXgssL373RsKNBbCq7d8f32Oqqoav5e6Xfr7yVxt58ar+zX3403n7fc5e47Xvuf8d2xvp3PVzXXnn73v7Prjc87nHz9v52q59LsxbvP7Y65zy/b+MHf/9+vvTs63z2vZ3Xf7N++ryb4n3/d/bc7TnWN/fXm9Of9h/U/3ne/Zv1uv9fmz77+2XpP10/s/Obe+/7Zyfb9xbW667/Zgx/nmnOtct969//78+v7Zfofv6P7H7fP//a/9bn/+jwIA4ggAAAgkAAAgkAAAgEACAAACCQAACCQAACCQAACAQAIAAAIJAAAIJAAAIJAAAIBAAgAAAgkAAAgkAAAgkAAAgEACAAACCQAACCQAACCQAACAQAIAAAIJAAAIJAAAIJAAAIBAAgAAAgkAAAgkAAAgkAAAgEACAAACCQAACCQAACCQAACAQAIAAAIJAAAIJAAAIJAAAIBAAgAAAgkAAAgkAAAgkAAAgEACAAACCQAACCQAACCQAACAQAIAAAIJAAAIJAAAIJAAAIBAAgAAAgkAAAgkAAAgkAAAgEACAAACCQAACCQAACCQAACAQAIAAAIJAAAIJAAAIJAAAIBAAgAAAgkAAAgkAAAg0A/eZmRcQvs67gAAAABJRU5ErkJggg==\"></div><div style=\"vertical-align: middle; max-width: 514px; display: flex; justify-content: space-between;\"><div style=\"float: left;\"><div title=\"#edb081ff\" style=\"display: inline-block; width: 1em; height: 1em; margin: 0; vertical-align: middle; border: 1px solid #555; background-color: #edb081ff;\"></div> under</div><div style=\"margin: 0 auto; display: inline-block;\">bad <div title=\"#00000000\" style=\"display: inline-block; width: 1em; height: 1em; margin: 0; vertical-align: middle; border: 1px solid #555; background-color: #00000000;\"></div></div><div style=\"float: right;\">over <div title=\"#4b2362ff\" style=\"display: inline-block; width: 1em; height: 1em; margin: 0; vertical-align: middle; border: 1px solid #555; background-color: #4b2362ff;\"></div></div>"
            ],
            "text/plain": [
              "<matplotlib.colors.ListedColormap at 0x7f07aceece50>"
            ]
          },
          "metadata": {},
          "execution_count": 1
        }
      ],
      "source": [
        "# Prepare plotting libraries\n",
        "import matplotlib\n",
        "import matplotlib.pyplot as plt\n",
        "import seaborn as sns\n",
        "\n",
        "sns.set_style('whitegrid')\n",
        "sns.color_palette(\"flare\", as_cmap=True)"
      ]
    },
    {
      "cell_type": "code",
      "execution_count": null,
      "metadata": {
        "id": "pNeKtCb4gUJi"
      },
      "outputs": [],
      "source": [
        "import numpy as np\n",
        "import torch\n",
        "# Use AutoModel and AutoTokenizer to load default parameters for GPT-2 and BERT\n",
        "from transformers import AutoTokenizer, AutoModel\n",
        "\n",
        "import random\n",
        "# TQDM provides a useful progress bar for long evaluation runs\n",
        "import tqdm"
      ]
    },
    {
      "cell_type": "code",
      "execution_count": null,
      "metadata": {
        "id": "qXfMY21EeZyG",
        "colab": {
          "base_uri": "https://localhost:8080/",
          "height": 66,
          "referenced_widgets": [
            "3b76b84b263349ea876849068b370ce6",
            "1bd497536ead486393239ce0ed6ce46d",
            "d089c5b7cc5841669315c1cc8d9c158f",
            "b3a161b023344fcb8328418cdb9c828d",
            "88e597b557c8460cb720b51d94e9083b",
            "053f67a9cc0c44f4bcba4ad947b5a625",
            "0d22204fb7e34da78d11d67bfe6331db",
            "cb3f31854e8b4d1b823b53de696c06ae",
            "9725c7bca8e74e9e9eb313e960d89a0a",
            "4f4cb2ed8b48496b85ed669af5dfb612",
            "f0146eb54dcd421cae7c969c8ff91008"
          ]
        },
        "outputId": "4b7ae52b-7108-4dbb-9aaf-387abfd77c0e"
      },
      "outputs": [
        {
          "output_type": "stream",
          "name": "stderr",
          "text": [
            "Reusing dataset squad (/root/.cache/huggingface/datasets/squad/plain_text/1.0.0/d6ec3ceb99ca480ce37cdd35555d6cb2511d223b9150cce08a837ef62ffea453)\n"
          ]
        },
        {
          "output_type": "display_data",
          "data": {
            "application/vnd.jupyter.widget-view+json": {
              "model_id": "3b76b84b263349ea876849068b370ce6",
              "version_minor": 0,
              "version_major": 2
            },
            "text/plain": [
              "  0%|          | 0/2 [00:00<?, ?it/s]"
            ]
          },
          "metadata": {}
        }
      ],
      "source": [
        "# Download the SQUAD dataset for a set of examples of generic web text\n",
        "from datasets import load_dataset\n",
        "squad = load_dataset('squad')"
      ]
    },
    {
      "cell_type": "markdown",
      "metadata": {
        "id": "ckIQQS9MhqYL"
      },
      "source": [
        "## Utilities to extract representations"
      ]
    },
    {
      "cell_type": "code",
      "execution_count": null,
      "metadata": {
        "id": "YbsZI5bTRVfK"
      },
      "outputs": [],
      "source": [
        "# Extract hidden representations\n",
        "# https://discuss.huggingface.co/t/generate-raw-word-embeddings-using-transformer-models-like-bert-for-downstream-process/2958/2\n",
        "# Modified to provide layer representations instead of mixing or averaging\n",
        "\n",
        "def get_hidden_states(encoded, token_ids_word, model, layers):\n",
        "     # No gradients required, only need output representations\n",
        "     with torch.no_grad():\n",
        "         output = model(**encoded)\n",
        " \n",
        "     # Extract and process representations\n",
        "     states = output.hidden_states\n",
        "     output = torch.stack(states).squeeze()\n",
        "     word_tokens_output = output[:, token_ids_word]\n",
        "     return word_tokens_output.mean(dim=1).mean(dim=1)\n",
        "     \n",
        "def get_word_vector(sent, idx, tokenizer, model, layers=[], device=\"cpu\"):\n",
        "     encoded = tokenizer.encode_plus(sent, return_tensors=\"pt\").to(device)\n",
        "     token_ids_word = np.where(np.array(encoded.word_ids()) == idx)\n",
        "     return get_hidden_states(encoded, token_ids_word, model, layers)"
      ]
    },
    {
      "cell_type": "code",
      "execution_count": null,
      "metadata": {
        "id": "GDx5WlI7RZY3",
        "colab": {
          "base_uri": "https://localhost:8080/"
        },
        "outputId": "209b8c1c-64c2-42af-979a-ff00d4081eaf"
      },
      "outputs": [
        {
          "output_type": "stream",
          "name": "stderr",
          "text": [
            "Some weights of the model checkpoint at bert-base-cased were not used when initializing BertModel: ['cls.predictions.transform.dense.bias', 'cls.seq_relationship.bias', 'cls.predictions.decoder.weight', 'cls.seq_relationship.weight', 'cls.predictions.bias', 'cls.predictions.transform.LayerNorm.bias', 'cls.predictions.transform.LayerNorm.weight', 'cls.predictions.transform.dense.weight']\n",
            "- This IS expected if you are initializing BertModel from the checkpoint of a model trained on another task or with another architecture (e.g. initializing a BertForSequenceClassification model from a BertForPreTraining model).\n",
            "- This IS NOT expected if you are initializing BertModel from the checkpoint of a model that you expect to be exactly identical (initializing a BertForSequenceClassification model from a BertForSequenceClassification model).\n"
          ]
        },
        {
          "output_type": "stream",
          "name": "stdout",
          "text": [
            "Index of the word cool: 3\n",
            "Full sentence: Machine learning is cool .\n"
          ]
        },
        {
          "output_type": "stream",
          "name": "stderr",
          "text": [
            "/usr/local/lib/python3.7/dist-packages/ipykernel_launcher.py:13: UserWarning: Creating a tensor from a list of numpy.ndarrays is extremely slow. Please consider converting the list to a single numpy.ndarray with numpy.array() before converting to a tensor. (Triggered internally at  ../torch/csrc/utils/tensor_new.cpp:201.)\n",
            "  del sys.path[0]\n"
          ]
        }
      ],
      "source": [
        "# Test the tokenizers and downloaded models\n",
        "tokenizer = AutoTokenizer.from_pretrained(\"bert-base-cased\")\n",
        "model = AutoModel.from_pretrained(\"bert-base-cased\", output_hidden_states=True)\n",
        "\n",
        "sent = \"Machine learning is cool .\" \n",
        "\n",
        "def get_word_idx(sent, word):\n",
        "  return sent.split(\" \").index(word)\n",
        "  \n",
        "idx = sent.split(\" \").index(\"cool\")\n",
        "print(f\"Index of the word cool: {idx}\")\n",
        "print(f\"Full sentence: {sent}\")\n",
        "\n",
        "layers = None\n",
        "word_embedding = get_word_vector(sent, idx, tokenizer, model, layers)"
      ]
    },
    {
      "cell_type": "markdown",
      "metadata": {
        "id": "9Fur_AyJhuAe"
      },
      "source": [
        "## Extract representations for BERT and GPT-2"
      ]
    },
    {
      "cell_type": "code",
      "execution_count": null,
      "metadata": {
        "id": "7J0lJsEL4g3C"
      },
      "outputs": [],
      "source": [
        "# Number of input examples\n",
        "n = 500"
      ]
    },
    {
      "cell_type": "code",
      "execution_count": null,
      "metadata": {
        "id": "wr2wDSZDfTU1",
        "colab": {
          "base_uri": "https://localhost:8080/"
        },
        "outputId": "9aa7efcb-f2d4-4b97-9ae5-b8f63cf7b64f"
      },
      "outputs": [
        {
          "output_type": "stream",
          "name": "stderr",
          "text": [
            "Some weights of the model checkpoint at bert-base-cased were not used when initializing BertModel: ['cls.predictions.transform.dense.bias', 'cls.seq_relationship.bias', 'cls.predictions.decoder.weight', 'cls.seq_relationship.weight', 'cls.predictions.bias', 'cls.predictions.transform.LayerNorm.bias', 'cls.predictions.transform.LayerNorm.weight', 'cls.predictions.transform.dense.weight']\n",
            "- This IS expected if you are initializing BertModel from the checkpoint of a model trained on another task or with another architecture (e.g. initializing a BertForSequenceClassification model from a BertForPreTraining model).\n",
            "- This IS NOT expected if you are initializing BertModel from the checkpoint of a model that you expect to be exactly identical (initializing a BertForSequenceClassification model from a BertForSequenceClassification model).\n",
            "100%|██████████| 500/500 [00:09<00:00, 51.91it/s]\n"
          ]
        }
      ],
      "source": [
        "# Load both tokenizers and models\n",
        "# As BERT and GPT-2 are relatively small, both can be loaded into memory\n",
        "# at the same time to ensure that the same input examples are seen by\n",
        "# both models (for RSA purposes).\n",
        "\n",
        "bert_tokenizer = AutoTokenizer.from_pretrained(\"bert-base-cased\")\n",
        "bert_model = AutoModel.from_pretrained(\"bert-base-cased\", output_hidden_states=True)\n",
        "gpt_tokenizer = AutoTokenizer.from_pretrained(\"gpt2\")\n",
        "gpt_model = AutoModel.from_pretrained(\"gpt2\", output_hidden_states=True)\n",
        "\n",
        "# Place model on GPU if available\n",
        "device = \"cuda:0\" if torch.cuda.is_available() else \"cpu\"\n",
        "if device != \"cpu\":\n",
        "  bert_model = bert_model.to(device)\n",
        "  gpt_model = gpt_model.to(device)\n",
        "\n",
        "# Gather embeddings\n",
        "bert_embeddings = []\n",
        "gpt_embeddings = []\n",
        "\n",
        "# Examples are from SQUAD\n",
        "num_data = squad['validation'].num_rows\n",
        "\n",
        "for index in tqdm.tqdm(range(n)):\n",
        "  data_index = random.randint(0, num_data - 1)\n",
        "  sentence = squad['validation'][data_index]['context']\n",
        "  sentence_split = sentence.split(' ')[:128]\n",
        "  num_words = len(sentence_split)\n",
        "\n",
        "  random_index = 10 # Psuedo-random index, set for consistent results\n",
        "  word_indices = get_word_idx(sentence, sentence_split[random_index])\n",
        "\n",
        "  bert_word_embedding = get_word_vector(' '.join(sentence_split), word_indices, bert_tokenizer, bert_model, layers=range(13), device=device)\n",
        "  gpt_word_embedding = get_word_vector(' '.join(sentence_split), word_indices, gpt_tokenizer, gpt_model, layers=range(13), device=device)\n",
        "  \n",
        "  # Return embeddings to CPU for analysis\n",
        "  if device != \"cpu\":\n",
        "    bert_word_embedding = bert_word_embedding.detach()\n",
        "    gpt_word_embedding = gpt_word_embedding.detach()\n",
        "\n",
        "  bert_embeddings.append(bert_word_embedding)\n",
        "  gpt_embeddings.append(gpt_word_embedding)"
      ]
    },
    {
      "cell_type": "code",
      "execution_count": null,
      "metadata": {
        "id": "YJc7EBf9gUFb"
      },
      "outputs": [],
      "source": [
        "# Aggregate sets of embeddings\n",
        "bert_embeddings = torch.stack(bert_embeddings, dim=1)\n",
        "gpt_embeddings = torch.stack(gpt_embeddings, dim=1)"
      ]
    },
    {
      "cell_type": "markdown",
      "metadata": {
        "id": "qd-Ogzp_iZX-"
      },
      "source": [
        "## Utilities for computing Representational Similarity Analysis"
      ]
    },
    {
      "cell_type": "code",
      "execution_count": null,
      "metadata": {
        "id": "Fmj3CzqHUe-H",
        "colab": {
          "base_uri": "https://localhost:8080/"
        },
        "outputId": "1d5ccf9d-cac4-4742-d49c-57c49f638f54"
      },
      "outputs": [
        {
          "output_type": "stream",
          "name": "stdout",
          "text": [
            "125250\n"
          ]
        }
      ],
      "source": [
        "# Gather indices for the upper triangular of the matrices\n",
        "upper_triangular = []\n",
        "count = 0\n",
        "for i in range(n):\n",
        "  for j in range(n):\n",
        "    if i <= j:\n",
        "      upper_triangular.append(count)\n",
        "    count += 1\n",
        "\n",
        "print(len(upper_triangular))"
      ]
    },
    {
      "cell_type": "code",
      "execution_count": null,
      "metadata": {
        "id": "pxv8HAgsR-J8"
      },
      "outputs": [],
      "source": [
        "def cosine_similarity(vectors):\n",
        "  vectors /= torch.norm(vectors, p=2, dim=-1, keepdim=True)\n",
        "  cosine = torch.einsum('ijk,ilk->ijl', vectors, vectors)\n",
        "  return cosine\n",
        "\n",
        "def normalize(all_pairwise):\n",
        "  all_pairwise_corrected = all_pairwise - all_pairwise.mean(1, keepdim=True)\n",
        "  norms = torch.norm(all_pairwise_corrected, p=2, dim=-1, keepdim=True)\n",
        "  all_pairwise_scaled = all_pairwise_corrected / norms\n",
        "  return all_pairwise_scaled\n",
        "\n",
        "def extract_upper(all_pairwise_matrices):\n",
        "  layers = all_pairwise_matrices.shape[0]\n",
        "  all_pairwise_flattened = all_pairwise_matrices.reshape([layers, -1])\n",
        "  all_pairwise_upper = all_pairwise_flattened[:, upper_triangular]\n",
        "  return all_pairwise_upper\n",
        "\n",
        "def rsa(all_representations, compared_representations=None):\n",
        "  all_pairwise_matrices = cosine_similarity(all_representations)\n",
        "  all_pairwise_upper = extract_upper(all_pairwise_matrices)\n",
        "  all_pairwise_scaled = normalize(all_pairwise_upper)\n",
        "  \n",
        "  if compared_representations is not None:\n",
        "    compared_pairwise_matrices = cosine_similarity(compared_representations)\n",
        "    compared_pairwise_upper = extract_upper(compared_pairwise_matrices)\n",
        "    compared_pairwise_scaled = normalize(compared_pairwise_upper)\n",
        "    rsa_matrix = torch.einsum('ij,kj->ik', all_pairwise_scaled, compared_pairwise_scaled)\n",
        "    return rsa_matrix\n",
        "\n",
        "  rsa_matrix = torch.einsum('ij,kj->ik', all_pairwise_scaled, all_pairwise_scaled)\n",
        "  return rsa_matrix                                        "
      ]
    },
    {
      "cell_type": "markdown",
      "metadata": {
        "id": "5-2SC6cEigG8"
      },
      "source": [
        "## Plot Results from Similarity Analysis"
      ]
    },
    {
      "cell_type": "code",
      "execution_count": null,
      "metadata": {
        "id": "SkXfzWoKw4M3",
        "colab": {
          "base_uri": "https://localhost:8080/",
          "height": 385
        },
        "outputId": "508b3a31-9b23-46a5-a2ef-d39ebf6daba0"
      },
      "outputs": [
        {
          "output_type": "stream",
          "name": "stderr",
          "text": [
            "/usr/local/lib/python3.7/dist-packages/ipykernel_launcher.py:20: MatplotlibDeprecationWarning: Auto-removal of grids by pcolor() and pcolormesh() is deprecated since 3.5 and will be removed two minor releases later; please call grid(False) first.\n"
          ]
        },
        {
          "output_type": "display_data",
          "data": {
            "image/png": "[encoded data removed]",
            "text/plain": [
              "<Figure size 720x360 with 3 Axes>"
            ]
          },
          "metadata": {
            "needs_background": "light"
          }
        }
      ],
      "source": [
        "fig = plt.figure(figsize=(10, 5))\n",
        "plt.subplot(1, 2, 1)\n",
        "plt.imshow(rsa(bert_embeddings).cpu().numpy(), vmin=0)\n",
        "plt.ylim([-0.5, 12.5])\n",
        "plt.xticks([])\n",
        "plt.yticks([-0.5, 12.5], ['Input', 'Final Layer'])\n",
        "plt.xlabel('Layers of BERT', fontdict={'size'   : 14})\n",
        "plt.ylabel('Layers of BERT', fontdict={'size'   : 14}, labelpad=-75)\n",
        "\n",
        "plt.subplot(1, 2, 2)\n",
        "im2 = plt.imshow(rsa(gpt_embeddings).cpu().numpy(), vmin=0)\n",
        "plt.ylim([-0.5, 12.5])\n",
        "plt.xticks([])\n",
        "plt.yticks([])\n",
        "plt.xlabel('Layers of GPT-2', fontdict={'size'   : 14})\n",
        "plt.ylabel('Layers of GPT-2', fontdict={'size'   : 14})\n",
        "\n",
        "fig.subplots_adjust(right=0.9)\n",
        "cbar_ax = fig.add_axes([0.95, 0.14, 0.02, 0.72])\n",
        "fig.colorbar(im2, cax=cbar_ax, aspect=50)\n",
        "\n",
        "plt.suptitle('Similarity of Representations within Language Models', fontsize='x-large')\n",
        "plt.show()"
      ]
    },
    {
      "cell_type": "code",
      "execution_count": null,
      "metadata": {
        "id": "b7lLNtr4ykY4"
      },
      "outputs": [],
      "source": [
        "font = {'size'   : 14}\n",
        "\n",
        "matplotlib.rc('font', **font)"
      ]
    },
    {
      "cell_type": "code",
      "execution_count": null,
      "metadata": {
        "id": "6e_cCsdTiq6s",
        "colab": {
          "base_uri": "https://localhost:8080/",
          "height": 342
        },
        "outputId": "a2aabb9d-eab4-4998-d42c-0a151e6e5efd"
      },
      "outputs": [
        {
          "output_type": "stream",
          "name": "stderr",
          "text": [
            "/usr/local/lib/python3.7/dist-packages/ipykernel_launcher.py:5: MatplotlibDeprecationWarning: Auto-removal of grids by pcolor() and pcolormesh() is deprecated since 3.5 and will be removed two minor releases later; please call grid(False) first.\n",
            "  \"\"\"\n"
          ]
        },
        {
          "output_type": "display_data",
          "data": {
            "image/png": "[encoded data removed]",
            "text/plain": [
              "<Figure size 432x288 with 2 Axes>"
            ]
          },
          "metadata": {
            "needs_background": "light"
          }
        }
      ],
      "source": [
        "plt.imshow(rsa(bert_embeddings).cpu().numpy())\n",
        "plt.ylim([-0.5, 12.5])\n",
        "plt.xticks([])\n",
        "plt.yticks([-0.5, 12.5], ['Input', 'Final Layer'])\n",
        "plt.colorbar()\n",
        "plt.title('Similarity of Representations', fontdict={'size'   : 18})\n",
        "plt.xlabel('Layers of BERT', fontdict={'size'   : 16})\n",
        "plt.show()"
      ]
    },
    {
      "cell_type": "code",
      "execution_count": null,
      "metadata": {
        "id": "ZUaHW7o6ispk",
        "colab": {
          "base_uri": "https://localhost:8080/",
          "height": 342
        },
        "outputId": "4d3a2cdb-8713-4a35-d005-30d8b39d85cd"
      },
      "outputs": [
        {
          "output_type": "stream",
          "name": "stderr",
          "text": [
            "/usr/local/lib/python3.7/dist-packages/ipykernel_launcher.py:5: MatplotlibDeprecationWarning: Auto-removal of grids by pcolor() and pcolormesh() is deprecated since 3.5 and will be removed two minor releases later; please call grid(False) first.\n",
            "  \"\"\"\n"
          ]
        },
        {
          "output_type": "display_data",
          "data": {
            "image/png": "[encoded data removed]",
            "text/plain": [
              "<Figure size 432x288 with 2 Axes>"
            ]
          },
          "metadata": {
            "needs_background": "light"
          }
        }
      ],
      "source": [
        "plt.imshow(rsa(gpt_embeddings).cpu().numpy(), vmin=0)\n",
        "plt.ylim([-0.5, 12.5])\n",
        "plt.xticks([])\n",
        "plt.yticks([-0.5, 12.5], ['Input', 'Final Layer'])\n",
        "plt.colorbar()\n",
        "plt.title('Similarity of Representations')\n",
        "plt.xlabel('Layers of GPT', fontdict={'size'   : 16})\n",
        "plt.show()"
      ]
    },
    {
      "cell_type": "code",
      "execution_count": null,
      "metadata": {
        "id": "sT4Om2YEmfj6",
        "colab": {
          "base_uri": "https://localhost:8080/",
          "height": 412
        },
        "outputId": "bdf88eb0-7e94-4385-b848-64db2e48b1d9"
      },
      "outputs": [
        {
          "output_type": "stream",
          "name": "stderr",
          "text": [
            "/usr/local/lib/python3.7/dist-packages/ipykernel_launcher.py:11: MatplotlibDeprecationWarning: Auto-removal of grids by pcolor() and pcolormesh() is deprecated since 3.5 and will be removed two minor releases later; please call grid(False) first.\n",
            "  # This is added back by InteractiveShellApp.init_path()\n"
          ]
        },
        {
          "output_type": "display_data",
          "data": {
            "image/png": "[encoded data removed]",
            "text/plain": [
              "<Figure size 360x360 with 2 Axes>"
            ]
          },
          "metadata": {
            "needs_background": "light"
          }
        }
      ],
      "source": [
        "fig = plt.figure(figsize=(5, 5))\n",
        "im2 = plt.imshow(rsa(bert_embeddings, gpt_embeddings).cpu().numpy().T, vmin=0)\n",
        "plt.ylim([-0.5, 12.5])\n",
        "plt.xticks([])\n",
        "plt.yticks([-0.5, 12.5], ['Input', 'Final Layer'])\n",
        "plt.xlabel('Layers of GPT-2', fontdict={'size'   : 14})\n",
        "plt.ylabel('Layers of BERT', fontdict={'size'   : 14}, labelpad=-80)\n",
        "\n",
        "fig.subplots_adjust(right=0.9)\n",
        "cbar_ax = fig.add_axes([0.95, 0.12, 0.04, 0.76])\n",
        "fig.colorbar(im2, cax=cbar_ax, aspect=50)\n",
        "\n",
        "plt.suptitle('Similarity of Representations between Language Models', fontsize='x-large')\n",
        "plt.show()"
      ]
    },
    {
      "cell_type": "markdown",
      "metadata": {
        "id": "6gRj9sxsfL9q"
      },
      "source": [
        "## Explore context via RSA (not in final paper)"
      ]
    },
    {
      "cell_type": "code",
      "execution_count": null,
      "metadata": {
        "id": "5_HZi38quLy5",
        "colab": {
          "base_uri": "https://localhost:8080/"
        },
        "outputId": "36a52eb3-9343-4680-99ea-123d044272c5"
      },
      "outputs": [
        {
          "output_type": "stream",
          "name": "stderr",
          "text": [
            "Some weights of the model checkpoint at bert-base-cased were not used when initializing BertModel: ['cls.predictions.transform.dense.bias', 'cls.seq_relationship.bias', 'cls.predictions.decoder.weight', 'cls.seq_relationship.weight', 'cls.predictions.bias', 'cls.predictions.transform.LayerNorm.bias', 'cls.predictions.transform.LayerNorm.weight', 'cls.predictions.transform.dense.weight']\n",
            "- This IS expected if you are initializing BertModel from the checkpoint of a model trained on another task or with another architecture (e.g. initializing a BertForSequenceClassification model from a BertForPreTraining model).\n",
            "- This IS NOT expected if you are initializing BertModel from the checkpoint of a model that you expect to be exactly identical (initializing a BertForSequenceClassification model from a BertForSequenceClassification model).\n",
            "100%|██████████| 50/50 [00:18<00:00,  2.77it/s]\n"
          ]
        }
      ],
      "source": [
        "n=50\n",
        " \n",
        "bert_tokenizer = AutoTokenizer.from_pretrained(\"bert-base-cased\")\n",
        "bert_model = AutoModel.from_pretrained(\"bert-base-cased\", output_hidden_states=True)\n",
        "\n",
        "gpt_tokenizer = AutoTokenizer.from_pretrained(\"gpt2\")\n",
        "gpt_model = AutoModel.from_pretrained(\"gpt2\", output_hidden_states=True)\n",
        "\n",
        "device = \"cuda:0\" if torch.cuda.is_available() else \"cpu\"\n",
        "\n",
        "if device != \"cpu\":\n",
        "  bert_model = bert_model.to(device)\n",
        "  gpt_model = gpt_model.to(device)\n",
        "\n",
        "context_lengths = list(range(1, 102, 5))\n",
        "bert_embeddings = [[] for _ in context_lengths]\n",
        "gpt_embeddings = [[] for _ in context_lengths]\n",
        "num_data = squad['validation'].num_rows\n",
        "\n",
        "for index in tqdm.tqdm(range(n)):\n",
        "  data_index = random.randint(0, num_data - 1)\n",
        "  sentence = squad['validation'][data_index]['context']\n",
        "\n",
        "  for index, context in enumerate(context_lengths):\n",
        "    random_index = min(len(sentence.split(' ')) - 2, 30)\n",
        "    word_indices = get_word_idx(sentence, sentence.split(' ')[random_index])\n",
        "\n",
        "    bert_word_embedding = get_word_vector(' '.join(sentence.split(' ')[:random_index + context]), word_indices, bert_tokenizer, bert_model, layers=[11], device=device)\n",
        "    gpt_word_embedding = get_word_vector(' '.join(sentence.split(' ')[:random_index + context]), word_indices, gpt_tokenizer, gpt_model, layers=[11], device=device)\n",
        "  \n",
        "    if device != \"cpu\":\n",
        "      bert_word_embedding = bert_word_embedding.detach().cpu()\n",
        "      gpt_word_embedding = gpt_word_embedding.detach().cpu()\n",
        "\n",
        "    bert_embeddings[index].append(bert_word_embedding)\n",
        "    gpt_embeddings[index].append(gpt_word_embedding)"
      ]
    },
    {
      "cell_type": "code",
      "execution_count": null,
      "metadata": {
        "id": "hkITQsZw4OJo"
      },
      "outputs": [],
      "source": [
        "# Use a garbage collector to ensure that unused memory is freed\n",
        "\n",
        "# This is necessary when iteractively using the notebook to free\n",
        "# up memory both on the CPU and GPU\n",
        "import torch, gc\n",
        "gc.collect()\n",
        "torch.cuda.empty_cache()"
      ]
    },
    {
      "cell_type": "code",
      "execution_count": null,
      "metadata": {
        "id": "U5OZda4N1H1T"
      },
      "outputs": [],
      "source": [
        "# Redefine utilities for comparing representations based on new input structure\n",
        "def process_nested_embeddings(nested_embeddings, layer=8, index=0):\n",
        "  outputs = []\n",
        "  all_examples = nested_embeddings[index]\n",
        "  for example in all_examples:\n",
        "      outputs.append(example[layer:layer+1, :])\n",
        "  return torch.stack(outputs, dim=1)\n",
        "\n",
        "def cosine_similarity(vectors):\n",
        "  vectors /= torch.norm(vectors, p=2, dim=-1, keepdim=True)\n",
        "  cosine = torch.einsum('ijk,ilk->ijl', vectors, vectors)\n",
        "  return cosine\n",
        "\n",
        "def compare_rsa_contexts(original_embeddings, context_embeddings, layer):\n",
        "  original = process_nested_embeddings(original_embeddings, layer=layer)\n",
        "  contexts = [process_nested_embeddings(context_embeddings, index=index, layer=layer) for index in range(len(context_lengths))]\n",
        "  contexts = torch.concat(contexts, dim=0)\n",
        "  return rsa(original, contexts).cpu().numpy()[0]"
      ]
    },
    {
      "cell_type": "code",
      "execution_count": null,
      "metadata": {
        "id": "p4s1u0p0F002"
      },
      "outputs": [],
      "source": [
        "# Plot RSA similarity as a function of context size\n",
        "# for layer in range(10):\n",
        "#   plt.plot(context_lengths[1:], compare_rsa_contexts(bert_embeddings, bert_embeddings, layer)[1:], label=layer)\n",
        "# plt.legend()\n",
        "# plt.ylim([0.9, 1.1])"
      ]
    },
    {
      "cell_type": "code",
      "execution_count": null,
      "metadata": {
        "id": "mAHYYRGq3GpP"
      },
      "outputs": [],
      "source": [
        "# for layer in range(10):\n",
        "#   plt.plot(context_lengths[1:], compare_rsa_contexts(gpt_embeddings, bert_embeddings, layer)[1:], label=layer)\n",
        "# plt.legend()\n",
        "# plt.ylim([0, 1.1])"
      ]
    },
    {
      "cell_type": "markdown",
      "metadata": {
        "id": "NaKEtVzQj527"
      },
      "source": [
        "## Analyze attention structure"
      ]
    },
    {
      "cell_type": "code",
      "execution_count": null,
      "metadata": {
        "id": "jwxVpkOhkCmb"
      },
      "outputs": [],
      "source": [
        "# Set the number of input examples to analyze\n",
        "n=500"
      ]
    },
    {
      "cell_type": "code",
      "execution_count": null,
      "metadata": {
        "id": "hyniDUA548jY",
        "colab": {
          "base_uri": "https://localhost:8080/"
        },
        "outputId": "63a9cdc0-89bb-4bd4-ba90-b7edda843d8c"
      },
      "outputs": [
        {
          "output_type": "stream",
          "name": "stderr",
          "text": [
            "Some weights of the model checkpoint at bert-base-cased were not used when initializing BertModel: ['cls.predictions.transform.dense.bias', 'cls.seq_relationship.bias', 'cls.predictions.decoder.weight', 'cls.seq_relationship.weight', 'cls.predictions.bias', 'cls.predictions.transform.LayerNorm.bias', 'cls.predictions.transform.LayerNorm.weight', 'cls.predictions.transform.dense.weight']\n",
            "- This IS expected if you are initializing BertModel from the checkpoint of a model trained on another task or with another architecture (e.g. initializing a BertForSequenceClassification model from a BertForPreTraining model).\n",
            "- This IS NOT expected if you are initializing BertModel from the checkpoint of a model that you expect to be exactly identical (initializing a BertForSequenceClassification model from a BertForSequenceClassification model).\n"
          ]
        }
      ],
      "source": [
        "# Reload models to configure output to include attention\n",
        "bert_tokenizer = AutoTokenizer.from_pretrained(\"bert-base-cased\")\n",
        "bert_model = AutoModel.from_pretrained(\"bert-base-cased\", output_attentions=True)\n",
        "\n",
        "gpt_tokenizer = AutoTokenizer.from_pretrained(\"gpt2\")\n",
        "gpt_model = AutoModel.from_pretrained(\"gpt2\", output_attentions=True)\n",
        "\n",
        "# Place on device as necessary to improve performance\n",
        "device = \"cuda:0\" if torch.cuda.is_available() else \"cpu\"\n",
        "if device != \"cpu\":\n",
        "  bert_model = bert_model.to(device)\n",
        "  gpt_model = gpt_model.to(device)"
      ]
    },
    {
      "cell_type": "code",
      "execution_count": null,
      "metadata": {
        "id": "bSz5TAaxIWBL"
      },
      "outputs": [],
      "source": [
        "# Utilities to compute mean absolute distance measurements from attention matricues\n",
        "def get_attention(encoded, token_ids_word, model, layers):\n",
        "     with torch.no_grad():\n",
        "         output = model(**encoded)\n",
        " \n",
        "     attention = output.attentions   \n",
        "     outputs = torch.concat(attention, dim=0)\n",
        "     sq = attention[0].shape[-1]\n",
        "     weight = torch.abs(torch.arange(sq).unsqueeze(1) - torch.arange(sq).unsqueeze(0)) / sq\n",
        "\n",
        "     # Only example attention weights from the latter half of all indices\n",
        "     # to ensure that there is no bias toward the bidirectional model\n",
        "     output = (outputs[:, :, int(sq/2):, 1:] * weight[None, None, int(sq/2):, 1:].to(device=outputs.device)).mean((-1, -2)) * sq\n",
        "     return output\n",
        "     \n",
        "def get_attention_vector(sent, idx, tokenizer, model, layers=[], device=\"cpu\"):\n",
        "     encoded = tokenizer.encode_plus(sent, return_tensors=\"pt\").to(device)\n",
        "     token_ids_word = np.where(np.array(encoded.word_ids()) == idx)\n",
        "     return get_attention(encoded, token_ids_word, model, layers)"
      ]
    },
    {
      "cell_type": "code",
      "execution_count": null,
      "metadata": {
        "id": "MzJCZtXGLwce",
        "colab": {
          "base_uri": "https://localhost:8080/"
        },
        "outputId": "9330ee34-8452-49e5-f112-b6e234a29ac0"
      },
      "outputs": [
        {
          "output_type": "stream",
          "name": "stderr",
          "text": [
            "100%|██████████| 500/500 [00:09<00:00, 54.45it/s]\n"
          ]
        }
      ],
      "source": [
        "# Compute the mean absolute distance over a large set of input examples\n",
        "bert_weighting_storage = []\n",
        "gpt_weighting_storage = []\n",
        "num_data = squad['validation'].num_rows\n",
        "\n",
        "for index in tqdm.tqdm(range(n)):\n",
        "  data_index = random.randint(0, num_data - 1)\n",
        "  sentence = squad['validation'][data_index]['context']\n",
        "\n",
        "  random_index = min(int(len(sentence.split(' ')) / 2), 50)\n",
        "  word_indices = get_word_idx(sentence, sentence.split(' ')[random_index])\n",
        "\n",
        "  bert_weighting = get_attention_vector(' '.join(sentence.split(' ')[:100]), word_indices, bert_tokenizer, bert_model, layers=[11], device=device)\n",
        "  gpt_weighting = get_attention_vector(' '.join(sentence.split(' ')[:100]), word_indices, gpt_tokenizer, gpt_model, layers=[11], device=device)\n",
        "\n",
        "  if device != \"cpu\":\n",
        "    bert_weighting = bert_weighting.detach().cpu()\n",
        "    gpt_weighting = gpt_weighting.detach().cpu()\n",
        "\n",
        "  bert_weighting_storage.append(bert_weighting)\n",
        "  gpt_weighting_storage.append(gpt_weighting)"
      ]
    },
    {
      "cell_type": "code",
      "execution_count": null,
      "metadata": {
        "id": "cptM4wGlIx5C"
      },
      "outputs": [],
      "source": [
        "bert_sorted, indices = torch.sort(torch.stack(bert_weighting_storage, dim=0).mean(0), dim=1)"
      ]
    },
    {
      "cell_type": "code",
      "execution_count": null,
      "metadata": {
        "id": "9ItzBHNWNQ8f"
      },
      "outputs": [],
      "source": [
        "gpt_sorted, indices = torch.sort(torch.stack(gpt_weighting_storage, dim=0).mean(0), dim=1)"
      ]
    },
    {
      "cell_type": "code",
      "execution_count": null,
      "metadata": {
        "id": "uLixugVj1H4A",
        "colab": {
          "base_uri": "https://localhost:8080/",
          "height": 313
        },
        "outputId": "e9617c0b-fe48-430c-a0d0-6fc52872f9d4"
      },
      "outputs": [
        {
          "output_type": "display_data",
          "data": {
            "image/png": "[encoded data removed]",
            "text/plain": [
              "<Figure size 720x288 with 2 Axes>"
            ]
          },
          "metadata": {
            "needs_background": "light"
          }
        }
      ],
      "source": [
        "fig, axs = plt.subplots(1, 2, figsize=(10, 4), constrained_layout=True,\n",
        "                        sharex=True, sharey=True)\n",
        "plt.subplot(1, 2, 1)\n",
        "for layer in [1, 6, 11]:\n",
        "  plt.plot(range(12), bert_sorted[layer], '.--', label=f\"Layer {layer}\")\n",
        "plt.title(\"BERT\")\n",
        "plt.ylim([0, 0.4])\n",
        "\n",
        "\n",
        "plt.subplot(1, 2, 2)\n",
        "for layer in [1, 6, 11]:\n",
        "  plt.plot(range(12), gpt_sorted[layer], '.--', label=f\"Layer {layer}\")\n",
        "plt.legend()\n",
        "plt.ylim([0, 0.4])\n",
        "plt.title(\"GPT-2\")\n",
        "\n",
        "fig.supxlabel(\"Sorted Attention Head\")\n",
        "fig.supylabel(\"Normalized Mean \\n Absolute Distance\")\n",
        "\n",
        "plt.show()"
      ]
    },
    {
      "cell_type": "code",
      "source": [
        ""
      ],
      "metadata": {
        "id": "7EoLWLzBnDzT"
      },
      "execution_count": null,
      "outputs": []
    }
  ],
  "metadata": {
    "accelerator": "GPU",
    "colab": {
      "collapsed_sections": [],
      "name": "Representation Analysis + Attention.ipynb",
      "provenance": []
    },
    "kernelspec": {
      "display_name": "Python 3",
      "name": "python3"
    },
    "language_info": {
      "name": "python"
    },
    "widgets": {
      "application/vnd.jupyter.widget-state+json": {
        "3b76b84b263349ea876849068b370ce6": {
          "model_module": "@jupyter-widgets/controls",
          "model_name": "HBoxModel",
          "model_module_version": "1.5.0",
          "state": {
            "_view_name": "HBoxView",
            "_dom_classes": [],
            "_model_name": "HBoxModel",
            "_view_module": "@jupyter-widgets/controls",
            "_model_module_version": "1.5.0",
            "_view_count": null,
            "_view_module_version": "1.5.0",
            "box_style": "",
            "layout": "IPY_MODEL_1bd497536ead486393239ce0ed6ce46d",
            "_model_module": "@jupyter-widgets/controls",
            "children": [
              "IPY_MODEL_d089c5b7cc5841669315c1cc8d9c158f",
              "IPY_MODEL_b3a161b023344fcb8328418cdb9c828d",
              "IPY_MODEL_88e597b557c8460cb720b51d94e9083b"
            ]
          }
        },
        "1bd497536ead486393239ce0ed6ce46d": {
          "model_module": "@jupyter-widgets/base",
          "model_name": "LayoutModel",
          "model_module_version": "1.2.0",
          "state": {
            "_view_name": "LayoutView",
            "grid_template_rows": null,
            "right": null,
            "justify_content": null,
            "_view_module": "@jupyter-widgets/base",
            "overflow": null,
            "_model_module_version": "1.2.0",
            "_view_count": null,
            "flex_flow": null,
            "width": null,
            "min_width": null,
            "border": null,
            "align_items": null,
            "bottom": null,
            "_model_module": "@jupyter-widgets/base",
            "top": null,
            "grid_column": null,
            "overflow_y": null,
            "overflow_x": null,
            "grid_auto_flow": null,
            "grid_area": null,
            "grid_template_columns": null,
            "flex": null,
            "_model_name": "LayoutModel",
            "justify_items": null,
            "grid_row": null,
            "max_height": null,
            "align_content": null,
            "visibility": null,
            "align_self": null,
            "height": null,
            "min_height": null,
            "padding": null,
            "grid_auto_rows": null,
            "grid_gap": null,
            "max_width": null,
            "order": null,
            "_view_module_version": "1.2.0",
            "grid_template_areas": null,
            "object_position": null,
            "object_fit": null,
            "grid_auto_columns": null,
            "margin": null,
            "display": null,
            "left": null
          }
        },
        "d089c5b7cc5841669315c1cc8d9c158f": {
          "model_module": "@jupyter-widgets/controls",
          "model_name": "HTMLModel",
          "model_module_version": "1.5.0",
          "state": {
            "_view_name": "HTMLView",
            "style": "IPY_MODEL_053f67a9cc0c44f4bcba4ad947b5a625",
            "_dom_classes": [],
            "description": "",
            "_model_name": "HTMLModel",
            "placeholder": "​",
            "_view_module": "@jupyter-widgets/controls",
            "_model_module_version": "1.5.0",
            "value": "100%",
            "_view_count": null,
            "_view_module_version": "1.5.0",
            "description_tooltip": null,
            "_model_module": "@jupyter-widgets/controls",
            "layout": "IPY_MODEL_0d22204fb7e34da78d11d67bfe6331db"
          }
        },
        "b3a161b023344fcb8328418cdb9c828d": {
          "model_module": "@jupyter-widgets/controls",
          "model_name": "FloatProgressModel",
          "model_module_version": "1.5.0",
          "state": {
            "_view_name": "ProgressView",
            "style": "IPY_MODEL_cb3f31854e8b4d1b823b53de696c06ae",
            "_dom_classes": [],
            "description": "",
            "_model_name": "FloatProgressModel",
            "bar_style": "success",
            "max": 2,
            "_view_module": "@jupyter-widgets/controls",
            "_model_module_version": "1.5.0",
            "value": 2,
            "_view_count": null,
            "_view_module_version": "1.5.0",
            "orientation": "horizontal",
            "min": 0,
            "description_tooltip": null,
            "_model_module": "@jupyter-widgets/controls",
            "layout": "IPY_MODEL_9725c7bca8e74e9e9eb313e960d89a0a"
          }
        },
        "88e597b557c8460cb720b51d94e9083b": {
          "model_module": "@jupyter-widgets/controls",
          "model_name": "HTMLModel",
          "model_module_version": "1.5.0",
          "state": {
            "_view_name": "HTMLView",
            "style": "IPY_MODEL_4f4cb2ed8b48496b85ed669af5dfb612",
            "_dom_classes": [],
            "description": "",
            "_model_name": "HTMLModel",
            "placeholder": "​",
            "_view_module": "@jupyter-widgets/controls",
            "_model_module_version": "1.5.0",
            "value": " 2/2 [00:00&lt;00:00, 51.01it/s]",
            "_view_count": null,
            "_view_module_version": "1.5.0",
            "description_tooltip": null,
            "_model_module": "@jupyter-widgets/controls",
            "layout": "IPY_MODEL_f0146eb54dcd421cae7c969c8ff91008"
          }
        },
        "053f67a9cc0c44f4bcba4ad947b5a625": {
          "model_module": "@jupyter-widgets/controls",
          "model_name": "DescriptionStyleModel",
          "model_module_version": "1.5.0",
          "state": {
            "_view_name": "StyleView",
            "_model_name": "DescriptionStyleModel",
            "description_width": "",
            "_view_module": "@jupyter-widgets/base",
            "_model_module_version": "1.5.0",
            "_view_count": null,
            "_view_module_version": "1.2.0",
            "_model_module": "@jupyter-widgets/controls"
          }
        },
        "0d22204fb7e34da78d11d67bfe6331db": {
          "model_module": "@jupyter-widgets/base",
          "model_name": "LayoutModel",
          "model_module_version": "1.2.0",
          "state": {
            "_view_name": "LayoutView",
            "grid_template_rows": null,
            "right": null,
            "justify_content": null,
            "_view_module": "@jupyter-widgets/base",
            "overflow": null,
            "_model_module_version": "1.2.0",
            "_view_count": null,
            "flex_flow": null,
            "width": null,
            "min_width": null,
            "border": null,
            "align_items": null,
            "bottom": null,
            "_model_module": "@jupyter-widgets/base",
            "top": null,
            "grid_column": null,
            "overflow_y": null,
            "overflow_x": null,
            "grid_auto_flow": null,
            "grid_area": null,
            "grid_template_columns": null,
            "flex": null,
            "_model_name": "LayoutModel",
            "justify_items": null,
            "grid_row": null,
            "max_height": null,
            "align_content": null,
            "visibility": null,
            "align_self": null,
            "height": null,
            "min_height": null,
            "padding": null,
            "grid_auto_rows": null,
            "grid_gap": null,
            "max_width": null,
            "order": null,
            "_view_module_version": "1.2.0",
            "grid_template_areas": null,
            "object_position": null,
            "object_fit": null,
            "grid_auto_columns": null,
            "margin": null,
            "display": null,
            "left": null
          }
        },
        "cb3f31854e8b4d1b823b53de696c06ae": {
          "model_module": "@jupyter-widgets/controls",
          "model_name": "ProgressStyleModel",
          "model_module_version": "1.5.0",
          "state": {
            "_view_name": "StyleView",
            "_model_name": "ProgressStyleModel",
            "description_width": "",
            "_view_module": "@jupyter-widgets/base",
            "_model_module_version": "1.5.0",
            "_view_count": null,
            "_view_module_version": "1.2.0",
            "bar_color": null,
            "_model_module": "@jupyter-widgets/controls"
          }
        },
        "9725c7bca8e74e9e9eb313e960d89a0a": {
          "model_module": "@jupyter-widgets/base",
          "model_name": "LayoutModel",
          "model_module_version": "1.2.0",
          "state": {
            "_view_name": "LayoutView",
            "grid_template_rows": null,
            "right": null,
            "justify_content": null,
            "_view_module": "@jupyter-widgets/base",
            "overflow": null,
            "_model_module_version": "1.2.0",
            "_view_count": null,
            "flex_flow": null,
            "width": null,
            "min_width": null,
            "border": null,
            "align_items": null,
            "bottom": null,
            "_model_module": "@jupyter-widgets/base",
            "top": null,
            "grid_column": null,
            "overflow_y": null,
            "overflow_x": null,
            "grid_auto_flow": null,
            "grid_area": null,
            "grid_template_columns": null,
            "flex": null,
            "_model_name": "LayoutModel",
            "justify_items": null,
            "grid_row": null,
            "max_height": null,
            "align_content": null,
            "visibility": null,
            "align_self": null,
            "height": null,
            "min_height": null,
            "padding": null,
            "grid_auto_rows": null,
            "grid_gap": null,
            "max_width": null,
            "order": null,
            "_view_module_version": "1.2.0",
            "grid_template_areas": null,
            "object_position": null,
            "object_fit": null,
            "grid_auto_columns": null,
            "margin": null,
            "display": null,
            "left": null
          }
        },
        "4f4cb2ed8b48496b85ed669af5dfb612": {
          "model_module": "@jupyter-widgets/controls",
          "model_name": "DescriptionStyleModel",
          "model_module_version": "1.5.0",
          "state": {
            "_view_name": "StyleView",
            "_model_name": "DescriptionStyleModel",
            "description_width": "",
            "_view_module": "@jupyter-widgets/base",
            "_model_module_version": "1.5.0",
            "_view_count": null,
            "_view_module_version": "1.2.0",
            "_model_module": "@jupyter-widgets/controls"
          }
        },
        "f0146eb54dcd421cae7c969c8ff91008": {
          "model_module": "@jupyter-widgets/base",
          "model_name": "LayoutModel",
          "model_module_version": "1.2.0",
          "state": {
            "_view_name": "LayoutView",
            "grid_template_rows": null,
            "right": null,
            "justify_content": null,
            "_view_module": "@jupyter-widgets/base",
            "overflow": null,
            "_model_module_version": "1.2.0",
            "_view_count": null,
            "flex_flow": null,
            "width": null,
            "min_width": null,
            "border": null,
            "align_items": null,
            "bottom": null,
            "_model_module": "@jupyter-widgets/base",
            "top": null,
            "grid_column": null,
            "overflow_y": null,
            "overflow_x": null,
            "grid_auto_flow": null,
            "grid_area": null,
            "grid_template_columns": null,
            "flex": null,
            "_model_name": "LayoutModel",
            "justify_items": null,
            "grid_row": null,
            "max_height": null,
            "align_content": null,
            "visibility": null,
            "align_self": null,
            "height": null,
            "min_height": null,
            "padding": null,
            "grid_auto_rows": null,
            "grid_gap": null,
            "max_width": null,
            "order": null,
            "_view_module_version": "1.2.0",
            "grid_template_areas": null,
            "object_position": null,
            "object_fit": null,
            "grid_auto_columns": null,
            "margin": null,
            "display": null,
            "left": null
          }
        }
      }
    }
  },
  "nbformat": 4,
  "nbformat_minor": 0
}